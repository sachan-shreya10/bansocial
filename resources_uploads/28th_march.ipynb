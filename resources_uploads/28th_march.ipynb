{
  "nbformat": 4,
  "nbformat_minor": 0,
  "metadata": {
    "colab": {
      "name": "28th march.ipynb",
      "provenance": []
    },
    "kernelspec": {
      "name": "python3",
      "display_name": "Python 3"
    },
    "language_info": {
      "name": "python"
    }
  },
  "cells": [
    {
      "cell_type": "code",
      "execution_count": null,
      "metadata": {
        "colab": {
          "base_uri": "https://localhost:8080/"
        },
        "id": "P2WvyxEGBpP8",
        "outputId": "11ec6b83-20a5-4622-d34b-a9fd87780f45"
      },
      "outputs": [
        {
          "output_type": "execute_result",
          "data": {
            "text/plain": [
              "['I am a Btech student.',\n",
              " 'I study in Banasthali Vidyapith.',\n",
              " 'I am a computer science student.',\n",
              " 'I am in section C.']"
            ]
          },
          "metadata": {},
          "execution_count": 40
        }
      ],
      "source": [
        "corpus=['I am a Btech student.',\n",
        "        'I study in Banasthali Vidyapith.',\n",
        "        'I am a computer science student.',\n",
        "        'I am in section C.']\n",
        "corpus        "
      ]
    },
    {
      "cell_type": "code",
      "source": [
        "from sklearn.feature_extraction.text import CountVectorizer"
      ],
      "metadata": {
        "id": "kLfcuNPZCjM0"
      },
      "execution_count": null,
      "outputs": []
    },
    {
      "cell_type": "code",
      "source": [
        "vc=CountVectorizer(stop_words=['in'],max_df=1)\n",
        "X=vc.fit_transform(corpus)\n",
        "vc.get_feature_names_out()"
      ],
      "metadata": {
        "colab": {
          "base_uri": "https://localhost:8080/"
        },
        "id": "H-7eEClhDSTs",
        "outputId": "a9a0695f-aa8f-40a9-a2b4-c4f156350087"
      },
      "execution_count": null,
      "outputs": [
        {
          "output_type": "execute_result",
          "data": {
            "text/plain": [
              "array(['banasthali', 'btech', 'computer', 'science', 'section', 'study',\n",
              "       'vidyapith'], dtype=object)"
            ]
          },
          "metadata": {},
          "execution_count": 42
        }
      ]
    },
    {
      "cell_type": "code",
      "source": [
        "print(X.toarray())"
      ],
      "metadata": {
        "colab": {
          "base_uri": "https://localhost:8080/"
        },
        "id": "oIMIhuOcDVGQ",
        "outputId": "15cb3f5f-e1fe-46ed-aa3c-7ae1a13a88f8"
      },
      "execution_count": null,
      "outputs": [
        {
          "output_type": "stream",
          "name": "stdout",
          "text": [
            "[[0 1 0 0 0 0 0]\n",
            " [1 0 0 0 0 1 1]\n",
            " [0 0 1 1 0 0 0]\n",
            " [0 0 0 0 1 0 0]]\n"
          ]
        }
      ]
    },
    {
      "cell_type": "code",
      "source": [
        "import pandas as pd\n",
        "count_token=X.toarray()\n",
        "df=pd.DataFrame(data=count_token,columns=vc.get_feature_names())\n",
        "print(df)"
      ],
      "metadata": {
        "colab": {
          "base_uri": "https://localhost:8080/"
        },
        "id": "Mzwj28uaDwEj",
        "outputId": "580c4938-800f-4b9d-dead-3c9b713a3775"
      },
      "execution_count": null,
      "outputs": [
        {
          "output_type": "stream",
          "name": "stdout",
          "text": [
            "   banasthali  btech  computer  science  section  study  vidyapith\n",
            "0           0      1         0        0        0      0          0\n",
            "1           1      0         0        0        0      1          1\n",
            "2           0      0         1        1        0      0          0\n",
            "3           0      0         0        0        1      0          0\n"
          ]
        },
        {
          "output_type": "stream",
          "name": "stderr",
          "text": [
            "/usr/local/lib/python3.7/dist-packages/sklearn/utils/deprecation.py:87: FutureWarning: Function get_feature_names is deprecated; get_feature_names is deprecated in 1.0 and will be removed in 1.2. Please use get_feature_names_out instead.\n",
            "  warnings.warn(msg, category=FutureWarning)\n"
          ]
        }
      ]
    },
    {
      "cell_type": "code",
      "source": [
        "vc1=CountVectorizer(analyzer='word', ngram_range=(2,2))\n",
        "X2=vc1.fit_transform(corpus)\n",
        "vc1.get_feature_names_out()"
      ],
      "metadata": {
        "colab": {
          "base_uri": "https://localhost:8080/"
        },
        "id": "Tsqqy-nrEPx0",
        "outputId": "6c19e1a1-6ccb-4f3c-ac03-79b584eb6a13"
      },
      "execution_count": null,
      "outputs": [
        {
          "output_type": "execute_result",
          "data": {
            "text/plain": [
              "array(['am btech', 'am computer', 'am in', 'banasthali vidyapith',\n",
              "       'btech student', 'computer science', 'in banasthali', 'in section',\n",
              "       'science student', 'study in'], dtype=object)"
            ]
          },
          "metadata": {},
          "execution_count": 45
        }
      ]
    },
    {
      "cell_type": "code",
      "source": [
        "from sklearn.feature_extraction.text import TfidfVectorizer\n",
        "vc=TfidfVectorizer()\n",
        "X=vc.fit_transform(corpus)\n",
        "vc.get_feature_names_out()  "
      ],
      "metadata": {
        "colab": {
          "base_uri": "https://localhost:8080/"
        },
        "id": "bXXEqURtFn1F",
        "outputId": "449bca84-a308-480e-a2ef-b337418c2b04"
      },
      "execution_count": null,
      "outputs": [
        {
          "output_type": "execute_result",
          "data": {
            "text/plain": [
              "array(['am', 'banasthali', 'btech', 'computer', 'in', 'science',\n",
              "       'section', 'student', 'study', 'vidyapith'], dtype=object)"
            ]
          },
          "metadata": {},
          "execution_count": 46
        }
      ]
    }
  ]
}